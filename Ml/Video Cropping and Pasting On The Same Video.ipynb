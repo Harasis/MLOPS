{
 "cells": [
  {
   "cell_type": "code",
   "execution_count": 1,
   "metadata": {},
   "outputs": [],
   "source": [
    "import cv2"
   ]
  },
  {
   "cell_type": "code",
   "execution_count": 2,
   "metadata": {},
   "outputs": [],
   "source": [
    "cap = cv2.VideoCapture(0)"
   ]
  },
  {
   "cell_type": "code",
   "execution_count": 4,
   "metadata": {},
   "outputs": [],
   "source": [
    "while True:\n",
    "    status, orig_photo = cap.read()\n",
    "    crop_photo = orig_photo[100:400 , 200:500] #here we are cropping our video of 300:300 pixels\n",
    "    resize_photo = cv2.resize(crop_photo , (100,100)) #here we are resizing our 300 pixel crop_photo to 100 pixel resize_photo\n",
    "    orig_photo[0:100,0:100] = resize_photo  # here we are pasting resize_photo to our orignal at the top left corner \n",
    "    \n",
    "    grey_photo = cv2.cvtColor(orig_photo , cv2.COLOR_BGRA2GRAY)\n",
    "    \n",
    "    cv2.imshow(\"HEY\", grey_photo)\n",
    "    \n",
    "    if cv2.waitKey(10) == 13:       #enter\n",
    "        break\n",
    "        \n",
    "cv2.destroyAllWindows()    \n",
    "cap.release()"
   ]
  },
  {
   "cell_type": "code",
   "execution_count": null,
   "metadata": {},
   "outputs": [],
   "source": []
  }
 ],
 "metadata": {
  "kernelspec": {
   "display_name": "Python 3",
   "language": "python",
   "name": "python3"
  },
  "language_info": {
   "codemirror_mode": {
    "name": "ipython",
    "version": 3
   },
   "file_extension": ".py",
   "mimetype": "text/x-python",
   "name": "python",
   "nbconvert_exporter": "python",
   "pygments_lexer": "ipython3",
   "version": "3.7.0"
  }
 },
 "nbformat": 4,
 "nbformat_minor": 2
}
