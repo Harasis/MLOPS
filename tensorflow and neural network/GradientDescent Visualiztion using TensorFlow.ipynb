{
 "cells": [
  {
   "cell_type": "code",
   "execution_count": 30,
   "metadata": {},
   "outputs": [],
   "source": [
    "import tensorflow as tf"
   ]
  },
  {
   "cell_type": "code",
   "execution_count": 31,
   "metadata": {},
   "outputs": [],
   "source": [
    "x = tf.constant(3.0)"
   ]
  },
  {
   "cell_type": "code",
   "execution_count": 32,
   "metadata": {},
   "outputs": [],
   "source": [
    "y = tf.constant(6.0)"
   ]
  },
  {
   "cell_type": "code",
   "execution_count": 33,
   "metadata": {},
   "outputs": [],
   "source": [
    "w = tf.Variable(20.0)"
   ]
  },
  {
   "cell_type": "code",
   "execution_count": 34,
   "metadata": {},
   "outputs": [],
   "source": [
    "def losscomputation():\n",
    "    with tf.GradientTape() as tape:\n",
    "        loss = tf.math.abs(w*x-y)\n",
    "    dx = tape.gradient(loss,w)\n",
    "    print(\"w: \", w.numpy(), \"loss: \", loss.numpy(), 'dx: ', dx.numpy())\n",
    "    w.assign(w-dx)   #same as w:w-alpha(dw) from deeplearning.ai"
   ]
  },
  {
   "cell_type": "code",
   "execution_count": 35,
   "metadata": {},
   "outputs": [
    {
     "name": "stdout",
     "output_type": "stream",
     "text": [
      "w:  20.0 loss:  54.0 dx:  3.0\n",
      "w:  17.0 loss:  45.0 dx:  3.0\n",
      "w:  14.0 loss:  36.0 dx:  3.0\n",
      "w:  11.0 loss:  27.0 dx:  3.0\n",
      "w:  8.0 loss:  18.0 dx:  3.0\n",
      "w:  5.0 loss:  9.0 dx:  3.0\n",
      "w:  2.0 loss:  0.0 dx:  0.0\n",
      "w:  2.0 loss:  0.0 dx:  0.0\n",
      "w:  2.0 loss:  0.0 dx:  0.0\n",
      "w:  2.0 loss:  0.0 dx:  0.0\n",
      "w:  2.0 loss:  0.0 dx:  0.0\n"
     ]
    }
   ],
   "source": [
    "i=0\n",
    "while i<=10:\n",
    "    losscomputation()\n",
    "    i+=1"
   ]
  },
  {
   "cell_type": "code",
   "execution_count": null,
   "metadata": {},
   "outputs": [],
   "source": [
    "#here we see that we keep on decreasing dx from w and at the end we get loss=0 and we get the optimum value of w"
   ]
  }
 ],
 "metadata": {
  "kernelspec": {
   "display_name": "Python 3",
   "language": "python",
   "name": "python3"
  },
  "language_info": {
   "codemirror_mode": {
    "name": "ipython",
    "version": 3
   },
   "file_extension": ".py",
   "mimetype": "text/x-python",
   "name": "python",
   "nbconvert_exporter": "python",
   "pygments_lexer": "ipython3",
   "version": "3.7.7"
  }
 },
 "nbformat": 4,
 "nbformat_minor": 4
}
