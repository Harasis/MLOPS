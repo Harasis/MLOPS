{
 "cells": [
  {
   "cell_type": "code",
   "execution_count": 1,
   "metadata": {},
   "outputs": [],
   "source": [
    "import pandas as pd\n"
   ]
  },
  {
   "cell_type": "code",
   "execution_count": 2,
   "metadata": {},
   "outputs": [],
   "source": [
    "df = pd.read_csv('weight-height.csv')"
   ]
  },
  {
   "cell_type": "code",
   "execution_count": 3,
   "metadata": {},
   "outputs": [
    {
     "name": "stdout",
     "output_type": "stream",
     "text": [
      "<class 'pandas.core.frame.DataFrame'>\n",
      "RangeIndex: 10000 entries, 0 to 9999\n",
      "Data columns (total 3 columns):\n",
      " #   Column  Non-Null Count  Dtype  \n",
      "---  ------  --------------  -----  \n",
      " 0   Gender  10000 non-null  object \n",
      " 1   Height  10000 non-null  float64\n",
      " 2   Weight  10000 non-null  float64\n",
      "dtypes: float64(2), object(1)\n",
      "memory usage: 234.5+ KB\n"
     ]
    }
   ],
   "source": [
    "df.info()"
   ]
  },
  {
   "cell_type": "code",
   "execution_count": 4,
   "metadata": {},
   "outputs": [
    {
     "data": {
      "text/plain": [
       "Index(['Gender', 'Height', 'Weight'], dtype='object')"
      ]
     },
     "execution_count": 4,
     "metadata": {},
     "output_type": "execute_result"
    }
   ],
   "source": [
    "df.columns"
   ]
  },
  {
   "cell_type": "code",
   "execution_count": 5,
   "metadata": {},
   "outputs": [],
   "source": [
    "y = df['Height']"
   ]
  },
  {
   "cell_type": "code",
   "execution_count": 6,
   "metadata": {},
   "outputs": [],
   "source": [
    "x = df['Weight']"
   ]
  },
  {
   "cell_type": "code",
   "execution_count": 7,
   "metadata": {},
   "outputs": [
    {
     "name": "stderr",
     "output_type": "stream",
     "text": [
      "Using TensorFlow backend.\n"
     ]
    }
   ],
   "source": [
    "from keras.models import Sequential"
   ]
  },
  {
   "cell_type": "code",
   "execution_count": 8,
   "metadata": {},
   "outputs": [],
   "source": [
    "from keras.layers import Dense"
   ]
  },
  {
   "cell_type": "code",
   "execution_count": 9,
   "metadata": {},
   "outputs": [],
   "source": [
    "from keras.optimizers import Adam"
   ]
  },
  {
   "cell_type": "code",
   "execution_count": 10,
   "metadata": {},
   "outputs": [],
   "source": [
    "model = Sequential()"
   ]
  },
  {
   "cell_type": "code",
   "execution_count": 11,
   "metadata": {},
   "outputs": [],
   "source": [
    "model.add(Dense(units= 1, input_shape = (1,)))\n",
    "\n",
    "#Number of Dense we add =  number of layers we want in our neural network    1 Dense = 1 Layer\n",
    "#Units = number of outputs\n",
    "#Input_shape = how many inputs we have\n",
    "#by default we have activation as Linear Activation"
   ]
  },
  {
   "cell_type": "code",
   "execution_count": 12,
   "metadata": {},
   "outputs": [
    {
     "name": "stdout",
     "output_type": "stream",
     "text": [
      "Model: \"sequential_1\"\n",
      "_________________________________________________________________\n",
      "Layer (type)                 Output Shape              Param #   \n",
      "=================================================================\n",
      "dense_1 (Dense)              (None, 1)                 2         \n",
      "=================================================================\n",
      "Total params: 2\n",
      "Trainable params: 2\n",
      "Non-trainable params: 0\n",
      "_________________________________________________________________\n"
     ]
    }
   ],
   "source": [
    "model.summary()\n",
    "\n",
    "#here param  = 2 ie W and B"
   ]
  },
  {
   "cell_type": "code",
   "execution_count": 13,
   "metadata": {},
   "outputs": [],
   "source": [
    "model.compile(loss='mean_squared_error' , optimizer= Adam(learning_rate = 0.001))\n",
    "\n",
    "#Accuracy is inversely proportional to learning rate---But lesser the learning rate more the time req to train the model\n",
    "#our optimizer is Adam here"
   ]
  },
  {
   "cell_type": "code",
   "execution_count": 14,
   "metadata": {},
   "outputs": [
    {
     "name": "stdout",
     "output_type": "stream",
     "text": [
      "Epoch 1/20\n",
      "10000/10000 [==============================] - 0s 32us/step - loss: 9476.6564\n",
      "Epoch 2/20\n",
      "10000/10000 [==============================] - 0s 25us/step - loss: 3267.5186\n",
      "Epoch 3/20\n",
      "10000/10000 [==============================] - 0s 25us/step - loss: 895.8912\n",
      "Epoch 4/20\n",
      "10000/10000 [==============================] - 0s 26us/step - loss: 234.6979\n",
      "Epoch 5/20\n",
      "10000/10000 [==============================] - 0s 25us/step - loss: 110.0963\n",
      "Epoch 6/20\n",
      "10000/10000 [==============================] - 0s 25us/step - loss: 95.2264\n",
      "Epoch 7/20\n",
      "10000/10000 [==============================] - 0s 26us/step - loss: 94.1029\n",
      "Epoch 8/20\n",
      "10000/10000 [==============================] - 0s 25us/step - loss: 93.9650\n",
      "Epoch 9/20\n",
      "10000/10000 [==============================] - ETA: 0s - loss: 94.51 - 0s 25us/step - loss: 93.8725\n",
      "Epoch 10/20\n",
      "10000/10000 [==============================] - 0s 25us/step - loss: 93.7319\n",
      "Epoch 11/20\n",
      "10000/10000 [==============================] - 0s 26us/step - loss: 93.6134\n",
      "Epoch 12/20\n",
      "10000/10000 [==============================] - 0s 21us/step - loss: 93.4310\n",
      "Epoch 13/20\n",
      "10000/10000 [==============================] - 0s 24us/step - loss: 93.2371\n",
      "Epoch 14/20\n",
      "10000/10000 [==============================] - 0s 23us/step - loss: 93.0533\n",
      "Epoch 15/20\n",
      "10000/10000 [==============================] - 0s 23us/step - loss: 92.7837\n",
      "Epoch 16/20\n",
      "10000/10000 [==============================] - 0s 23us/step - loss: 92.4875\n",
      "Epoch 17/20\n",
      "10000/10000 [==============================] - 0s 24us/step - loss: 92.1809\n",
      "Epoch 18/20\n",
      "10000/10000 [==============================] - 0s 23us/step - loss: 91.7876\n",
      "Epoch 19/20\n",
      "10000/10000 [==============================] - 0s 23us/step - loss: 91.3670\n",
      "Epoch 20/20\n",
      "10000/10000 [==============================] - 0s 23us/step - loss: 90.8754\n"
     ]
    },
    {
     "data": {
      "text/plain": [
       "<keras.callbacks.callbacks.History at 0x23a049e4948>"
      ]
     },
     "execution_count": 14,
     "metadata": {},
     "output_type": "execute_result"
    }
   ],
   "source": [
    "model.fit(x,y, epochs=20)\n",
    "\n",
    "\n",
    "#1 Epoch = 1 Forward pass + 1 Backward pass for ALL training samples\n",
    "#no of epochs is proportional to accuracy but upto a certain limit until become constant of inc-dec state"
   ]
  },
  {
   "cell_type": "code",
   "execution_count": 15,
   "metadata": {},
   "outputs": [],
   "source": [
    "W, B = model.get_weights()"
   ]
  },
  {
   "cell_type": "code",
   "execution_count": 16,
   "metadata": {},
   "outputs": [
    {
     "data": {
      "text/plain": [
       "array([[0.39942506]], dtype=float32)"
      ]
     },
     "execution_count": 16,
     "metadata": {},
     "output_type": "execute_result"
    }
   ],
   "source": [
    "W"
   ]
  },
  {
   "cell_type": "code",
   "execution_count": 17,
   "metadata": {},
   "outputs": [
    {
     "data": {
      "text/plain": [
       "array([0.27043924], dtype=float32)"
      ]
     },
     "execution_count": 17,
     "metadata": {},
     "output_type": "execute_result"
    }
   ],
   "source": [
    "B"
   ]
  },
  {
   "cell_type": "code",
   "execution_count": 18,
   "metadata": {},
   "outputs": [
    {
     "data": {
      "text/plain": [
       "(1, 1)"
      ]
     },
     "execution_count": 18,
     "metadata": {},
     "output_type": "execute_result"
    }
   ],
   "source": [
    "W.shape"
   ]
  },
  {
   "cell_type": "code",
   "execution_count": 19,
   "metadata": {},
   "outputs": [
    {
     "data": {
      "text/plain": [
       "(1,)"
      ]
     },
     "execution_count": 19,
     "metadata": {},
     "output_type": "execute_result"
    }
   ],
   "source": [
    "B.shape"
   ]
  },
  {
   "cell_type": "code",
   "execution_count": 20,
   "metadata": {},
   "outputs": [],
   "source": [
    "W[0,0] = 0.0\n",
    "B[0] = 0 \n",
    "\n",
    "#Better approach for the training of model"
   ]
  },
  {
   "cell_type": "code",
   "execution_count": 21,
   "metadata": {},
   "outputs": [],
   "source": [
    "model.set_weights((W,B))"
   ]
  },
  {
   "cell_type": "code",
   "execution_count": 22,
   "metadata": {},
   "outputs": [
    {
     "name": "stdout",
     "output_type": "stream",
     "text": [
      "Epoch 1/20\n",
      "10000/10000 [==============================] - 0s 28us/step - loss: 534.2300\n",
      "Epoch 2/20\n",
      "10000/10000 [==============================] - 0s 26us/step - loss: 89.9193\n",
      "Epoch 3/20\n",
      "10000/10000 [==============================] - 0s 25us/step - loss: 89.6865\n",
      "Epoch 4/20\n",
      "10000/10000 [==============================] - 0s 28us/step - loss: 89.4534\n",
      "Epoch 5/20\n",
      "10000/10000 [==============================] - 0s 25us/step - loss: 89.1620\n",
      "Epoch 6/20\n",
      "10000/10000 [==============================] - 0s 24us/step - loss: 88.8357\n",
      "Epoch 7/20\n",
      "10000/10000 [==============================] - 0s 24us/step - loss: 88.4811\n",
      "Epoch 8/20\n",
      "10000/10000 [==============================] - 0s 25us/step - loss: 88.0822\n",
      "Epoch 9/20\n",
      "10000/10000 [==============================] - 0s 25us/step - loss: 87.6480\n",
      "Epoch 10/20\n",
      "10000/10000 [==============================] - 0s 24us/step - loss: 87.1015\n",
      "Epoch 11/20\n",
      "10000/10000 [==============================] - 0s 25us/step - loss: 86.5801\n",
      "Epoch 12/20\n",
      "10000/10000 [==============================] - 0s 24us/step - loss: 86.0468\n",
      "Epoch 13/20\n",
      "10000/10000 [==============================] - 0s 25us/step - loss: 85.3494\n",
      "Epoch 14/20\n",
      "10000/10000 [==============================] - 0s 25us/step - loss: 84.7038\n",
      "Epoch 15/20\n",
      "10000/10000 [==============================] - 0s 25us/step - loss: 83.9691\n",
      "Epoch 16/20\n",
      "10000/10000 [==============================] - 0s 25us/step - loss: 83.2859\n",
      "Epoch 17/20\n",
      "10000/10000 [==============================] - 0s 24us/step - loss: 82.5499\n",
      "Epoch 18/20\n",
      "10000/10000 [==============================] - 0s 26us/step - loss: 81.8131\n",
      "Epoch 19/20\n",
      "10000/10000 [==============================] - 0s 24us/step - loss: 81.0815\n",
      "Epoch 20/20\n",
      "10000/10000 [==============================] - 0s 25us/step - loss: 80.3643\n"
     ]
    },
    {
     "data": {
      "text/plain": [
       "<keras.callbacks.callbacks.History at 0x23a0497d908>"
      ]
     },
     "execution_count": 22,
     "metadata": {},
     "output_type": "execute_result"
    }
   ],
   "source": [
    "model.fit(x,y, epochs=20)"
   ]
  },
  {
   "cell_type": "code",
   "execution_count": 23,
   "metadata": {},
   "outputs": [
    {
     "data": {
      "text/plain": [
       "[array([[0.37823498]], dtype=float32), array([3.294009], dtype=float32)]"
      ]
     },
     "execution_count": 23,
     "metadata": {},
     "output_type": "execute_result"
    }
   ],
   "source": [
    "model.get_weights()\n",
    "\n",
    "#w,b"
   ]
  },
  {
   "cell_type": "code",
   "execution_count": null,
   "metadata": {},
   "outputs": [],
   "source": []
  }
 ],
 "metadata": {
  "kernelspec": {
   "display_name": "Python 3",
   "language": "python",
   "name": "python3"
  },
  "language_info": {
   "codemirror_mode": {
    "name": "ipython",
    "version": 3
   },
   "file_extension": ".py",
   "mimetype": "text/x-python",
   "name": "python",
   "nbconvert_exporter": "python",
   "pygments_lexer": "ipython3",
   "version": "3.7.7"
  }
 },
 "nbformat": 4,
 "nbformat_minor": 4
}
