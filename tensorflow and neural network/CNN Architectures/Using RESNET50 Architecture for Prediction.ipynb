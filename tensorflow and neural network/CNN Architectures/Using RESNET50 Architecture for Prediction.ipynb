{
 "cells": [
  {
   "cell_type": "code",
   "execution_count": 2,
   "metadata": {},
   "outputs": [],
   "source": [
    "from keras.applications import resnet50"
   ]
  },
  {
   "cell_type": "code",
   "execution_count": 3,
   "metadata": {},
   "outputs": [
    {
     "name": "stdout",
     "output_type": "stream",
     "text": [
      "Downloading data from https://github.com/fchollet/deep-learning-models/releases/download/v0.2/resnet50_weights_tf_dim_ordering_tf_kernels.h5\n",
      "102858752/102853048 [==============================] - 12s 0us/step\n"
     ]
    }
   ],
   "source": [
    "model = resnet50.ResNet50(weights = 'imagenet')\n",
    "\n",
    "#pre-trained weights\n"
   ]
  },
  {
   "cell_type": "code",
   "execution_count": 4,
   "metadata": {},
   "outputs": [
    {
     "data": {
      "text/plain": [
       "[<keras.engine.input_layer.InputLayer at 0x1a71461dbc8>,\n",
       " <keras.layers.convolutional.ZeroPadding2D at 0x1a7145ed5c8>,\n",
       " <keras.layers.convolutional.Conv2D at 0x1a714622808>,\n",
       " <keras.layers.normalization.BatchNormalization at 0x1a71463db08>,\n",
       " <keras.layers.core.Activation at 0x1a71463dc88>,\n",
       " <keras.layers.convolutional.ZeroPadding2D at 0x1a71469b808>,\n",
       " <keras.layers.pooling.MaxPooling2D at 0x1a7146f4788>,\n",
       " <keras.layers.convolutional.Conv2D at 0x1a71473a348>,\n",
       " <keras.layers.normalization.BatchNormalization at 0x1a714744e48>,\n",
       " <keras.layers.core.Activation at 0x1a714744ec8>,\n",
       " <keras.layers.convolutional.Conv2D at 0x1a7147463c8>,\n",
       " <keras.layers.normalization.BatchNormalization at 0x1a71476bb08>,\n",
       " <keras.layers.core.Activation at 0x1a71476b648>,\n",
       " <keras.layers.convolutional.Conv2D at 0x1a714797708>,\n",
       " <keras.layers.convolutional.Conv2D at 0x1a7147e7d08>,\n",
       " <keras.layers.normalization.BatchNormalization at 0x1a7147ae1c8>,\n",
       " <keras.layers.normalization.BatchNormalization at 0x1a71480af88>,\n",
       " <keras.layers.merge.Add at 0x1a7147cd708>,\n",
       " <keras.layers.core.Activation at 0x1a71483cc48>,\n",
       " <keras.layers.convolutional.Conv2D at 0x1a71483cd48>,\n",
       " <keras.layers.normalization.BatchNormalization at 0x1a714897d08>,\n",
       " <keras.layers.core.Activation at 0x1a714897d48>,\n",
       " <keras.layers.convolutional.Conv2D at 0x1a714897148>,\n",
       " <keras.layers.normalization.BatchNormalization at 0x1a7148a4b88>,\n",
       " <keras.layers.core.Activation at 0x1a7148c3288>,\n",
       " <keras.layers.convolutional.Conv2D at 0x1a7148e48c8>,\n",
       " <keras.layers.normalization.BatchNormalization at 0x1a7148fbfc8>,\n",
       " <keras.layers.merge.Add at 0x1a7158e2b48>,\n",
       " <keras.layers.core.Activation at 0x1a715909888>,\n",
       " <keras.layers.convolutional.Conv2D at 0x1a7159198c8>,\n",
       " <keras.layers.normalization.BatchNormalization at 0x1a71595bd88>,\n",
       " <keras.layers.core.Activation at 0x1a71595be08>,\n",
       " <keras.layers.convolutional.Conv2D at 0x1a715965f88>,\n",
       " <keras.layers.normalization.BatchNormalization at 0x1a715983808>,\n",
       " <keras.layers.core.Activation at 0x1a71598f548>,\n",
       " <keras.layers.convolutional.Conv2D at 0x1a7159b7d08>,\n",
       " <keras.layers.normalization.BatchNormalization at 0x1a7159d8a48>,\n",
       " <keras.layers.merge.Add at 0x1a7159ddf48>,\n",
       " <keras.layers.core.Activation at 0x1a715a049c8>,\n",
       " <keras.layers.convolutional.Conv2D at 0x1a715a046c8>,\n",
       " <keras.layers.normalization.BatchNormalization at 0x1a715a54d88>,\n",
       " <keras.layers.core.Activation at 0x1a715a54fc8>,\n",
       " <keras.layers.convolutional.Conv2D at 0x1a715a5a588>,\n",
       " <keras.layers.normalization.BatchNormalization at 0x1a715a86788>,\n",
       " <keras.layers.core.Activation at 0x1a715a88b48>,\n",
       " <keras.layers.convolutional.Conv2D at 0x1a715ab0b08>,\n",
       " <keras.layers.convolutional.Conv2D at 0x1a715b00cc8>,\n",
       " <keras.layers.normalization.BatchNormalization at 0x1a715ac3b48>,\n",
       " <keras.layers.normalization.BatchNormalization at 0x1a715b1c588>,\n",
       " <keras.layers.merge.Add at 0x1a715b2bac8>,\n",
       " <keras.layers.core.Activation at 0x1a715b55d48>,\n",
       " <keras.layers.convolutional.Conv2D at 0x1a715b75e48>,\n",
       " <keras.layers.normalization.BatchNormalization at 0x1a715ba9d08>,\n",
       " <keras.layers.core.Activation at 0x1a715ba9d88>,\n",
       " <keras.layers.convolutional.Conv2D at 0x1a715bb0f88>,\n",
       " <keras.layers.normalization.BatchNormalization at 0x1a715bca8c8>,\n",
       " <keras.layers.core.Activation at 0x1a715bd85c8>,\n",
       " <keras.layers.convolutional.Conv2D at 0x1a715c00d08>,\n",
       " <keras.layers.normalization.BatchNormalization at 0x1a715c21d08>,\n",
       " <keras.layers.merge.Add at 0x1a715c21208>,\n",
       " <keras.layers.core.Activation at 0x1a715c51248>,\n",
       " <keras.layers.convolutional.Conv2D at 0x1a715c52d48>,\n",
       " <keras.layers.normalization.BatchNormalization at 0x1a715ca1ec8>,\n",
       " <keras.layers.core.Activation at 0x1a715ca1f08>,\n",
       " <keras.layers.convolutional.Conv2D at 0x1a715ca9748>,\n",
       " <keras.layers.normalization.BatchNormalization at 0x1a715ccfac8>,\n",
       " <keras.layers.core.Activation at 0x1a715ccf608>,\n",
       " <keras.layers.convolutional.Conv2D at 0x1a715cff708>,\n",
       " <keras.layers.normalization.BatchNormalization at 0x1a715d162c8>,\n",
       " <keras.layers.merge.Add at 0x1a715d4ebc8>,\n",
       " <keras.layers.core.Activation at 0x1a715d54848>,\n",
       " <keras.layers.convolutional.Conv2D at 0x1a715d6b348>,\n",
       " <keras.layers.normalization.BatchNormalization at 0x1a715da3b08>,\n",
       " <keras.layers.core.Activation at 0x1a715da3a08>,\n",
       " <keras.layers.convolutional.Conv2D at 0x1a715dadd08>,\n",
       " <keras.layers.normalization.BatchNormalization at 0x1a715dbc848>,\n",
       " <keras.layers.core.Activation at 0x1a715dd2408>,\n",
       " <keras.layers.convolutional.Conv2D at 0x1a715e01b48>,\n",
       " <keras.layers.normalization.BatchNormalization at 0x1a716df39c8>,\n",
       " <keras.layers.merge.Add at 0x1a716df7e48>,\n",
       " <keras.layers.core.Activation at 0x1a716e1e908>,\n",
       " <keras.layers.convolutional.Conv2D at 0x1a716e1e608>,\n",
       " <keras.layers.normalization.BatchNormalization at 0x1a716e6ee88>,\n",
       " <keras.layers.core.Activation at 0x1a716e6ef88>,\n",
       " <keras.layers.convolutional.Conv2D at 0x1a716e74588>,\n",
       " <keras.layers.normalization.BatchNormalization at 0x1a716e9e748>,\n",
       " <keras.layers.core.Activation at 0x1a716ea0b08>,\n",
       " <keras.layers.convolutional.Conv2D at 0x1a716eca708>,\n",
       " <keras.layers.convolutional.Conv2D at 0x1a716f18c88>,\n",
       " <keras.layers.normalization.BatchNormalization at 0x1a716edcf08>,\n",
       " <keras.layers.normalization.BatchNormalization at 0x1a716f36dc8>,\n",
       " <keras.layers.merge.Add at 0x1a716f44a88>,\n",
       " <keras.layers.core.Activation at 0x1a716f70ac8>,\n",
       " <keras.layers.convolutional.Conv2D at 0x1a716f70cc8>,\n",
       " <keras.layers.normalization.BatchNormalization at 0x1a716fc29c8>,\n",
       " <keras.layers.core.Activation at 0x1a716fc2988>,\n",
       " <keras.layers.convolutional.Conv2D at 0x1a716fc8f48>,\n",
       " <keras.layers.normalization.BatchNormalization at 0x1a716ff3588>,\n",
       " <keras.layers.core.Activation at 0x1a717015c88>,\n",
       " <keras.layers.convolutional.Conv2D at 0x1a71701cd08>,\n",
       " <keras.layers.normalization.BatchNormalization at 0x1a71703ad08>,\n",
       " <keras.layers.merge.Add at 0x1a71703a208>,\n",
       " <keras.layers.core.Activation at 0x1a71706b248>,\n",
       " <keras.layers.convolutional.Conv2D at 0x1a717078d48>,\n",
       " <keras.layers.normalization.BatchNormalization at 0x1a7170b1f08>,\n",
       " <keras.layers.core.Activation at 0x1a7170b1e08>,\n",
       " <keras.layers.convolutional.Conv2D at 0x1a7170b83c8>,\n",
       " <keras.layers.normalization.BatchNormalization at 0x1a7170dec88>,\n",
       " <keras.layers.core.Activation at 0x1a7170e4f48>,\n",
       " <keras.layers.convolutional.Conv2D at 0x1a717113dc8>,\n",
       " <keras.layers.normalization.BatchNormalization at 0x1a717135a08>,\n",
       " <keras.layers.merge.Add at 0x1a717138f48>,\n",
       " <keras.layers.core.Activation at 0x1a71715e9c8>,\n",
       " <keras.layers.convolutional.Conv2D at 0x1a7172a5dc8>,\n",
       " <keras.layers.normalization.BatchNormalization at 0x1a7172f2bc8>,\n",
       " <keras.layers.core.Activation at 0x1a7172f2ac8>,\n",
       " <keras.layers.convolutional.Conv2D at 0x1a7172f9e48>,\n",
       " <keras.layers.normalization.BatchNormalization at 0x1a71731b848>,\n",
       " <keras.layers.core.Activation at 0x1a717343f08>,\n",
       " <keras.layers.convolutional.Conv2D at 0x1a71734a4c8>,\n",
       " <keras.layers.normalization.BatchNormalization at 0x1a71735de88>,\n",
       " <keras.layers.merge.Add at 0x1a717619f08>,\n",
       " <keras.layers.core.Activation at 0x1a71761f0c8>,\n",
       " <keras.layers.convolutional.Conv2D at 0x1a717630588>,\n",
       " <keras.layers.normalization.BatchNormalization at 0x1a71766ed88>,\n",
       " <keras.layers.core.Activation at 0x1a71766ee08>,\n",
       " <keras.layers.convolutional.Conv2D at 0x1a7176745c8>,\n",
       " <keras.layers.normalization.BatchNormalization at 0x1a71769da48>,\n",
       " <keras.layers.core.Activation at 0x1a71769d588>,\n",
       " <keras.layers.convolutional.Conv2D at 0x1a7176c6148>,\n",
       " <keras.layers.normalization.BatchNormalization at 0x1a7176de6c8>,\n",
       " <keras.layers.merge.Add at 0x1a717814cc8>,\n",
       " <keras.layers.core.Activation at 0x1a71783d448>,\n",
       " <keras.layers.convolutional.Conv2D at 0x1a71783d248>,\n",
       " <keras.layers.normalization.BatchNormalization at 0x1a717898c08>,\n",
       " <keras.layers.core.Activation at 0x1a717898a08>,\n",
       " <keras.layers.convolutional.Conv2D at 0x1a717898048>,\n",
       " <keras.layers.normalization.BatchNormalization at 0x1a7178aa208>,\n",
       " <keras.layers.core.Activation at 0x1a7178e1bc8>,\n",
       " <keras.layers.convolutional.Conv2D at 0x1a7178e8e88>,\n",
       " <keras.layers.normalization.BatchNormalization at 0x1a71790bf88>,\n",
       " <keras.layers.merge.Add at 0x1a717935fc8>,\n",
       " <keras.layers.core.Activation at 0x1a71793dd48>,\n",
       " <keras.layers.convolutional.Conv2D at 0x1a71794e9c8>,\n",
       " <keras.layers.normalization.BatchNormalization at 0x1a71798cfc8>,\n",
       " <keras.layers.core.Activation at 0x1a71798cdc8>,\n",
       " <keras.layers.convolutional.Conv2D at 0x1a7179924c8>,\n",
       " <keras.layers.normalization.BatchNormalization at 0x1a7179bb7c8>,\n",
       " <keras.layers.core.Activation at 0x1a7179bb308>,\n",
       " <keras.layers.convolutional.Conv2D at 0x1a7179e5808>,\n",
       " <keras.layers.convolutional.Conv2D at 0x1a71808a808>,\n",
       " <keras.layers.normalization.BatchNormalization at 0x1a71805f548>,\n",
       " <keras.layers.normalization.BatchNormalization at 0x1a7187c1408>,\n",
       " <keras.layers.merge.Add at 0x1a7187f8d48>,\n",
       " <keras.layers.core.Activation at 0x1a7187ff648>,\n",
       " <keras.layers.convolutional.Conv2D at 0x1a718811b48>,\n",
       " <keras.layers.normalization.BatchNormalization at 0x1a71884ef88>,\n",
       " <keras.layers.core.Activation at 0x1a71884ed48>,\n",
       " <keras.layers.convolutional.Conv2D at 0x1a718854348>,\n",
       " <keras.layers.normalization.BatchNormalization at 0x1a71887bec8>,\n",
       " <keras.layers.core.Activation at 0x1a71887f9c8>,\n",
       " <keras.layers.convolutional.Conv2D at 0x1a7188a7788>,\n",
       " <keras.layers.normalization.BatchNormalization at 0x1a7189de508>,\n",
       " <keras.layers.merge.Add at 0x1a7189f49c8>,\n",
       " <keras.layers.core.Activation at 0x1a718d7b848>,\n",
       " <keras.layers.convolutional.Conv2D at 0x1a718d9b148>,\n",
       " <keras.layers.normalization.BatchNormalization at 0x1a718dc9d88>,\n",
       " <keras.layers.core.Activation at 0x1a718dc9f88>,\n",
       " <keras.layers.convolutional.Conv2D at 0x1a718dcf988>,\n",
       " <keras.layers.normalization.BatchNormalization at 0x1a718df9e08>,\n",
       " <keras.layers.core.Activation at 0x1a718e01108>,\n",
       " <keras.layers.convolutional.Conv2D at 0x1a718e2bc48>,\n",
       " <keras.layers.normalization.BatchNormalization at 0x1a718e4dc88>,\n",
       " <keras.layers.merge.Add at 0x1a718e55108>,\n",
       " <keras.layers.core.Activation at 0x1a718e7fb48>,\n",
       " <keras.layers.pooling.GlobalAveragePooling2D at 0x1a718d7b548>,\n",
       " <keras.layers.core.Dense at 0x1a718e85f88>]"
      ]
     },
     "execution_count": 4,
     "metadata": {},
     "output_type": "execute_result"
    }
   ],
   "source": [
    "model.layers"
   ]
  },
  {
   "cell_type": "code",
   "execution_count": 5,
   "metadata": {},
   "outputs": [
    {
     "data": {
      "text/plain": [
       "<tf.Tensor 'input_1:0' shape=(None, 224, 224, 3) dtype=float32>"
      ]
     },
     "execution_count": 5,
     "metadata": {},
     "output_type": "execute_result"
    }
   ],
   "source": [
    "model.layers[0].input  #this tells us what should be the size of input image\n",
    "\n",
    "                       # also here we know that image should of 4d array ie (none, 224,224, 3) = 4d ie TENSOR DATATYPE"
   ]
  },
  {
   "cell_type": "code",
   "execution_count": 6,
   "metadata": {},
   "outputs": [],
   "source": [
    "from keras.preprocessing import image"
   ]
  },
  {
   "cell_type": "code",
   "execution_count": 7,
   "metadata": {},
   "outputs": [],
   "source": [
    "img = image.load_img('Chihuahua-longhaired-sitting-its-head-tilted.jpg', target_size=(224,224,3))"
   ]
  },
  {
   "cell_type": "code",
   "execution_count": 8,
   "metadata": {},
   "outputs": [
    {
     "data": {
      "text/plain": [
       "(224, 224)"
      ]
     },
     "execution_count": 8,
     "metadata": {},
     "output_type": "execute_result"
    }
   ],
   "source": [
    "img.size  #but here we have 2D array"
   ]
  },
  {
   "cell_type": "code",
   "execution_count": 9,
   "metadata": {},
   "outputs": [
    {
     "data": {
      "text/plain": [
       "PIL.Image.Image"
      ]
     },
     "execution_count": 9,
     "metadata": {},
     "output_type": "execute_result"
    }
   ],
   "source": [
    "type(img)"
   ]
  },
  {
   "cell_type": "markdown",
   "metadata": {},
   "source": [
    "# Convert Image to Tensor Datatype"
   ]
  },
  {
   "cell_type": "code",
   "execution_count": 10,
   "metadata": {},
   "outputs": [],
   "source": [
    "import numpy as np"
   ]
  },
  {
   "cell_type": "code",
   "execution_count": 11,
   "metadata": {},
   "outputs": [],
   "source": [
    "img_numpy = image.img_to_array(img)"
   ]
  },
  {
   "cell_type": "code",
   "execution_count": 12,
   "metadata": {},
   "outputs": [
    {
     "data": {
      "text/plain": [
       "(224, 224, 3)"
      ]
     },
     "execution_count": 12,
     "metadata": {},
     "output_type": "execute_result"
    }
   ],
   "source": [
    "img_numpy.shape                   # converted to 3d array"
   ]
  },
  {
   "cell_type": "code",
   "execution_count": 13,
   "metadata": {},
   "outputs": [
    {
     "data": {
      "text/plain": [
       "numpy.ndarray"
      ]
     },
     "execution_count": 13,
     "metadata": {},
     "output_type": "execute_result"
    }
   ],
   "source": [
    "type(img_numpy)"
   ]
  },
  {
   "cell_type": "code",
   "execution_count": 14,
   "metadata": {},
   "outputs": [],
   "source": [
    "#Conversion of 3D array to 4D array\n",
    "\n",
    "img_tensor = np.expand_dims(img_numpy, axis=0)\n",
    "\n"
   ]
  },
  {
   "cell_type": "code",
   "execution_count": 15,
   "metadata": {},
   "outputs": [
    {
     "data": {
      "text/plain": [
       "(1, 224, 224, 3)"
      ]
     },
     "execution_count": 15,
     "metadata": {},
     "output_type": "execute_result"
    }
   ],
   "source": [
    "img_tensor.shape \n",
    "\n",
    "#here 1 shows the number of columns"
   ]
  },
  {
   "cell_type": "markdown",
   "metadata": {},
   "source": [
    "# Prediction\n"
   ]
  },
  {
   "cell_type": "code",
   "execution_count": 16,
   "metadata": {},
   "outputs": [],
   "source": [
    "from keras.applications.resnet50 import decode_predictions"
   ]
  },
  {
   "cell_type": "code",
   "execution_count": 17,
   "metadata": {},
   "outputs": [],
   "source": [
    "from keras.applications.resnet50 import preprocess_input  #to process img more to get better accuracy"
   ]
  },
  {
   "cell_type": "code",
   "execution_count": 18,
   "metadata": {},
   "outputs": [],
   "source": [
    "final_img = preprocess_input(img_tensor)"
   ]
  },
  {
   "cell_type": "code",
   "execution_count": 19,
   "metadata": {},
   "outputs": [],
   "source": [
    "pred = model.predict(final_img)"
   ]
  },
  {
   "cell_type": "code",
   "execution_count": 20,
   "metadata": {},
   "outputs": [
    {
     "data": {
      "text/plain": [
       "[[('n02085620', 'Chihuahua', 0.3125356),\n",
       "  ('n02123597', 'Siamese_cat', 0.05805278),\n",
       "  ('n02111500', 'Great_Pyrenees', 0.058044225),\n",
       "  ('n02109961', 'Eskimo_dog', 0.05687939),\n",
       "  ('n02090622', 'borzoi', 0.049782984)]]"
      ]
     },
     "execution_count": 20,
     "metadata": {},
     "output_type": "execute_result"
    }
   ],
   "source": [
    "decode_predictions(pred)"
   ]
  },
  {
   "cell_type": "code",
   "execution_count": 21,
   "metadata": {},
   "outputs": [
    {
     "data": {
      "text/plain": [
       "[[('n02085620', 'Chihuahua', 0.3125356),\n",
       "  ('n02123597', 'Siamese_cat', 0.05805278),\n",
       "  ('n02111500', 'Great_Pyrenees', 0.058044225)]]"
      ]
     },
     "execution_count": 21,
     "metadata": {},
     "output_type": "execute_result"
    }
   ],
   "source": [
    "decode_predictions(pred, top=3)"
   ]
  },
  {
   "cell_type": "code",
   "execution_count": null,
   "metadata": {},
   "outputs": [],
   "source": []
  },
  {
   "cell_type": "code",
   "execution_count": null,
   "metadata": {},
   "outputs": [],
   "source": []
  }
 ],
 "metadata": {
  "kernelspec": {
   "display_name": "Python 3",
   "language": "python",
   "name": "python3"
  },
  "language_info": {
   "codemirror_mode": {
    "name": "ipython",
    "version": 3
   },
   "file_extension": ".py",
   "mimetype": "text/x-python",
   "name": "python",
   "nbconvert_exporter": "python",
   "pygments_lexer": "ipython3",
   "version": "3.7.7"
  }
 },
 "nbformat": 4,
 "nbformat_minor": 4
}
