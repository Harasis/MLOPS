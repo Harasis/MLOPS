{
 "cells": [
  {
   "cell_type": "code",
   "execution_count": 1,
   "metadata": {},
   "outputs": [
    {
     "name": "stderr",
     "output_type": "stream",
     "text": [
      "Using TensorFlow backend.\n"
     ]
    }
   ],
   "source": [
    "from keras.applications import vgg16"
   ]
  },
  {
   "cell_type": "code",
   "execution_count": 2,
   "metadata": {},
   "outputs": [],
   "source": [
    "model = vgg16.VGG16(weights = 'imagenet')\n",
    "\n",
    "#pre-trained weights\n"
   ]
  },
  {
   "cell_type": "code",
   "execution_count": 3,
   "metadata": {},
   "outputs": [
    {
     "data": {
      "text/plain": [
       "[<keras.engine.input_layer.InputLayer at 0x2124000ac48>,\n",
       " <keras.layers.convolutional.Conv2D at 0x21237761188>,\n",
       " <keras.layers.convolutional.Conv2D at 0x21237761708>,\n",
       " <keras.layers.pooling.MaxPooling2D at 0x21240076408>,\n",
       " <keras.layers.convolutional.Conv2D at 0x21240076c08>,\n",
       " <keras.layers.convolutional.Conv2D at 0x21240080708>,\n",
       " <keras.layers.pooling.MaxPooling2D at 0x21240080388>,\n",
       " <keras.layers.convolutional.Conv2D at 0x21240088508>,\n",
       " <keras.layers.convolutional.Conv2D at 0x2124008dc08>,\n",
       " <keras.layers.convolutional.Conv2D at 0x21240097148>,\n",
       " <keras.layers.pooling.MaxPooling2D at 0x2124009fd88>,\n",
       " <keras.layers.convolutional.Conv2D at 0x2124009f5c8>,\n",
       " <keras.layers.convolutional.Conv2D at 0x212400a8f48>,\n",
       " <keras.layers.convolutional.Conv2D at 0x212400b0148>,\n",
       " <keras.layers.pooling.MaxPooling2D at 0x212400b7ac8>,\n",
       " <keras.layers.convolutional.Conv2D at 0x212400b7108>,\n",
       " <keras.layers.convolutional.Conv2D at 0x212400c1e88>,\n",
       " <keras.layers.convolutional.Conv2D at 0x212400cb508>,\n",
       " <keras.layers.pooling.MaxPooling2D at 0x212400cf7c8>,\n",
       " <keras.layers.core.Flatten at 0x212400cf8c8>,\n",
       " <keras.layers.core.Dense at 0x212400dca48>,\n",
       " <keras.layers.core.Dense at 0x212400f9448>,\n",
       " <keras.layers.core.Dense at 0x212400f9dc8>]"
      ]
     },
     "execution_count": 3,
     "metadata": {},
     "output_type": "execute_result"
    }
   ],
   "source": [
    "model.layers"
   ]
  },
  {
   "cell_type": "code",
   "execution_count": 4,
   "metadata": {},
   "outputs": [
    {
     "data": {
      "text/plain": [
       "<tf.Tensor 'input_1:0' shape=(None, 224, 224, 3) dtype=float32>"
      ]
     },
     "execution_count": 4,
     "metadata": {},
     "output_type": "execute_result"
    }
   ],
   "source": [
    "model.layers[0].input  #this tells us what should be the size of input image\n",
    "\n",
    "                       # also here we know that image should of 4d array ie (none, 224,224, 3) = 4d ie TENSOR DATATYPE"
   ]
  },
  {
   "cell_type": "code",
   "execution_count": 5,
   "metadata": {},
   "outputs": [],
   "source": [
    "from keras.preprocessing import image"
   ]
  },
  {
   "cell_type": "code",
   "execution_count": 19,
   "metadata": {},
   "outputs": [],
   "source": [
    "img = image.load_img('Chihuahua-longhaired-sitting-its-head-tilted.jpg', target_size=(224,224,3))"
   ]
  },
  {
   "cell_type": "code",
   "execution_count": 20,
   "metadata": {},
   "outputs": [
    {
     "data": {
      "text/plain": [
       "(224, 224)"
      ]
     },
     "execution_count": 20,
     "metadata": {},
     "output_type": "execute_result"
    }
   ],
   "source": [
    "img.size  #but here we have 2D array"
   ]
  },
  {
   "cell_type": "code",
   "execution_count": 21,
   "metadata": {},
   "outputs": [
    {
     "data": {
      "text/plain": [
       "PIL.Image.Image"
      ]
     },
     "execution_count": 21,
     "metadata": {},
     "output_type": "execute_result"
    }
   ],
   "source": [
    "type(img)"
   ]
  },
  {
   "cell_type": "markdown",
   "metadata": {},
   "source": [
    "# Convert Image to Tensor Datatype"
   ]
  },
  {
   "cell_type": "code",
   "execution_count": 22,
   "metadata": {},
   "outputs": [],
   "source": [
    "import numpy as np"
   ]
  },
  {
   "cell_type": "code",
   "execution_count": 23,
   "metadata": {},
   "outputs": [],
   "source": [
    "img_numpy = image.img_to_array(img)"
   ]
  },
  {
   "cell_type": "code",
   "execution_count": 24,
   "metadata": {},
   "outputs": [
    {
     "data": {
      "text/plain": [
       "(224, 224, 3)"
      ]
     },
     "execution_count": 24,
     "metadata": {},
     "output_type": "execute_result"
    }
   ],
   "source": [
    "img_numpy.shape                   # converted to 3d array"
   ]
  },
  {
   "cell_type": "code",
   "execution_count": 25,
   "metadata": {},
   "outputs": [
    {
     "data": {
      "text/plain": [
       "numpy.ndarray"
      ]
     },
     "execution_count": 25,
     "metadata": {},
     "output_type": "execute_result"
    }
   ],
   "source": [
    "type(img_numpy)"
   ]
  },
  {
   "cell_type": "code",
   "execution_count": 26,
   "metadata": {},
   "outputs": [],
   "source": [
    "#Conversion of 3D array to 4D array\n",
    "\n",
    "img_tensor = np.expand_dims(img_numpy, axis=0)\n",
    "\n"
   ]
  },
  {
   "cell_type": "code",
   "execution_count": 27,
   "metadata": {},
   "outputs": [
    {
     "data": {
      "text/plain": [
       "(1, 224, 224, 3)"
      ]
     },
     "execution_count": 27,
     "metadata": {},
     "output_type": "execute_result"
    }
   ],
   "source": [
    "img_tensor.shape \n",
    "\n",
    "#here 1 shows the number of columns"
   ]
  },
  {
   "cell_type": "markdown",
   "metadata": {},
   "source": [
    "# Prediction\n"
   ]
  },
  {
   "cell_type": "code",
   "execution_count": 28,
   "metadata": {},
   "outputs": [],
   "source": [
    "from keras.applications.vgg16 import decode_predictions"
   ]
  },
  {
   "cell_type": "code",
   "execution_count": 29,
   "metadata": {},
   "outputs": [],
   "source": [
    "from keras.applications.vgg16 import preprocess_input  #to process img more to get better accuracy"
   ]
  },
  {
   "cell_type": "code",
   "execution_count": 30,
   "metadata": {},
   "outputs": [],
   "source": [
    "final_img = preprocess_input(img_tensor)"
   ]
  },
  {
   "cell_type": "code",
   "execution_count": 31,
   "metadata": {},
   "outputs": [],
   "source": [
    "pred = model.predict(final_img)"
   ]
  },
  {
   "cell_type": "code",
   "execution_count": 32,
   "metadata": {},
   "outputs": [
    {
     "name": "stdout",
     "output_type": "stream",
     "text": [
      "Downloading data from https://storage.googleapis.com/download.tensorflow.org/data/imagenet_class_index.json\n",
      "40960/35363 [==================================] - 0s 2us/step\n"
     ]
    },
    {
     "data": {
      "text/plain": [
       "[[('n02085620', 'Chihuahua', 0.30092058),\n",
       "  ('n02090622', 'borzoi', 0.069605775),\n",
       "  ('n02085782', 'Japanese_spaniel', 0.04618936),\n",
       "  ('n01608432', 'kite', 0.044603214),\n",
       "  ('n02087046', 'toy_terrier', 0.044476636)]]"
      ]
     },
     "execution_count": 32,
     "metadata": {},
     "output_type": "execute_result"
    }
   ],
   "source": [
    "decode_predictions(pred)"
   ]
  },
  {
   "cell_type": "code",
   "execution_count": 33,
   "metadata": {},
   "outputs": [
    {
     "data": {
      "text/plain": [
       "[[('n02085620', 'Chihuahua', 0.30092058),\n",
       "  ('n02090622', 'borzoi', 0.069605775),\n",
       "  ('n02085782', 'Japanese_spaniel', 0.04618936)]]"
      ]
     },
     "execution_count": 33,
     "metadata": {},
     "output_type": "execute_result"
    }
   ],
   "source": [
    "decode_predictions(pred, top=3)"
   ]
  },
  {
   "cell_type": "code",
   "execution_count": null,
   "metadata": {},
   "outputs": [],
   "source": []
  }
 ],
 "metadata": {
  "kernelspec": {
   "display_name": "Python 3",
   "language": "python",
   "name": "python3"
  },
  "language_info": {
   "codemirror_mode": {
    "name": "ipython",
    "version": 3
   },
   "file_extension": ".py",
   "mimetype": "text/x-python",
   "name": "python",
   "nbconvert_exporter": "python",
   "pygments_lexer": "ipython3",
   "version": "3.7.7"
  }
 },
 "nbformat": 4,
 "nbformat_minor": 4
}
