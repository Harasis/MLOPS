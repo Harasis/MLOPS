{
 "cells": [
  {
   "cell_type": "code",
   "execution_count": 1,
   "metadata": {},
   "outputs": [
    {
     "name": "stderr",
     "output_type": "stream",
     "text": [
      "Using TensorFlow backend.\n"
     ]
    }
   ],
   "source": [
    "from keras.applications import inception_v3"
   ]
  },
  {
   "cell_type": "code",
   "execution_count": 2,
   "metadata": {},
   "outputs": [],
   "source": [
    "model = inception_v3.InceptionV3(weights = 'imagenet')\n",
    "\n",
    "#pre-trained weights\n"
   ]
  },
  {
   "cell_type": "code",
   "execution_count": 3,
   "metadata": {},
   "outputs": [
    {
     "data": {
      "text/plain": [
       "[<keras.engine.input_layer.InputLayer at 0x22011bff088>,\n",
       " <keras.layers.convolutional.Conv2D at 0x220093640c8>,\n",
       " <keras.layers.normalization.BatchNormalization at 0x22011c1b408>,\n",
       " <keras.layers.core.Activation at 0x22011c1b2c8>,\n",
       " <keras.layers.convolutional.Conv2D at 0x22011c8c988>,\n",
       " <keras.layers.normalization.BatchNormalization at 0x22011cf4688>,\n",
       " <keras.layers.core.Activation at 0x22011cf4dc8>,\n",
       " <keras.layers.convolutional.Conv2D at 0x22011cfbf48>,\n",
       " <keras.layers.normalization.BatchNormalization at 0x22011d269c8>,\n",
       " <keras.layers.core.Activation at 0x22011d41ec8>,\n",
       " <keras.layers.pooling.MaxPooling2D at 0x22011d64548>,\n",
       " <keras.layers.convolutional.Conv2D at 0x22011d47c88>,\n",
       " <keras.layers.normalization.BatchNormalization at 0x22011d93e48>,\n",
       " <keras.layers.core.Activation at 0x22011d93348>,\n",
       " <keras.layers.convolutional.Conv2D at 0x22011d9bdc8>,\n",
       " <keras.layers.normalization.BatchNormalization at 0x22011db3c48>,\n",
       " <keras.layers.core.Activation at 0x22011ddccc8>,\n",
       " <keras.layers.pooling.MaxPooling2D at 0x22011de2608>,\n",
       " <keras.layers.convolutional.Conv2D at 0x22012e91808>,\n",
       " <keras.layers.normalization.BatchNormalization at 0x22012eafec8>,\n",
       " <keras.layers.core.Activation at 0x22012ebbc48>,\n",
       " <keras.layers.convolutional.Conv2D at 0x22012dfc9c8>,\n",
       " <keras.layers.convolutional.Conv2D at 0x22012ed48c8>,\n",
       " <keras.layers.normalization.BatchNormalization at 0x22012e0e6c8>,\n",
       " <keras.layers.normalization.BatchNormalization at 0x22012efca48>,\n",
       " <keras.layers.core.Activation at 0x22012e24a08>,\n",
       " <keras.layers.core.Activation at 0x22012f00f08>,\n",
       " <keras.layers.pooling.AveragePooling2D at 0x22012f6ecc8>,\n",
       " <keras.layers.convolutional.Conv2D at 0x22011dfdd08>,\n",
       " <keras.layers.convolutional.Conv2D at 0x22012e45848>,\n",
       " <keras.layers.convolutional.Conv2D at 0x22012f29308>,\n",
       " <keras.layers.convolutional.Conv2D at 0x22012f8cac8>,\n",
       " <keras.layers.normalization.BatchNormalization at 0x22012df5788>,\n",
       " <keras.layers.normalization.BatchNormalization at 0x22012e51bc8>,\n",
       " <keras.layers.normalization.BatchNormalization at 0x22012f34708>,\n",
       " <keras.layers.normalization.BatchNormalization at 0x22012fb9c08>,\n",
       " <keras.layers.core.Activation at 0x22012df5908>,\n",
       " <keras.layers.core.Activation at 0x22012e8bf88>,\n",
       " <keras.layers.core.Activation at 0x22012f4bf08>,\n",
       " <keras.layers.core.Activation at 0x22012fb9048>,\n",
       " <keras.layers.merge.Concatenate at 0x22012fc1788>,\n",
       " <keras.layers.convolutional.Conv2D at 0x220130a4608>,\n",
       " <keras.layers.normalization.BatchNormalization at 0x220130c0f48>,\n",
       " <keras.layers.core.Activation at 0x220130cef08>,\n",
       " <keras.layers.convolutional.Conv2D at 0x22013010888>,\n",
       " <keras.layers.convolutional.Conv2D at 0x220130e8808>,\n",
       " <keras.layers.normalization.BatchNormalization at 0x2201301f908>,\n",
       " <keras.layers.normalization.BatchNormalization at 0x2201310f988>,\n",
       " <keras.layers.core.Activation at 0x22013037a48>,\n",
       " <keras.layers.core.Activation at 0x22013118bc8>,\n",
       " <keras.layers.pooling.AveragePooling2D at 0x2201317f3c8>,\n",
       " <keras.layers.convolutional.Conv2D at 0x22012fc9408>,\n",
       " <keras.layers.convolutional.Conv2D at 0x2201306af88>,\n",
       " <keras.layers.convolutional.Conv2D at 0x2201313a748>,\n",
       " <keras.layers.convolutional.Conv2D at 0x22013196048>,\n",
       " <keras.layers.normalization.BatchNormalization at 0x22013008ac8>,\n",
       " <keras.layers.normalization.BatchNormalization at 0x22013059a08>,\n",
       " <keras.layers.normalization.BatchNormalization at 0x2201314f7c8>,\n",
       " <keras.layers.normalization.BatchNormalization at 0x220131c0e48>,\n",
       " <keras.layers.core.Activation at 0x22013008a88>,\n",
       " <keras.layers.core.Activation at 0x2201309ecc8>,\n",
       " <keras.layers.core.Activation at 0x2201315ef88>,\n",
       " <keras.layers.core.Activation at 0x220131c0fc8>,\n",
       " <keras.layers.merge.Concatenate at 0x220131c0b88>,\n",
       " <keras.layers.convolutional.Conv2D at 0x220132a88c8>,\n",
       " <keras.layers.normalization.BatchNormalization at 0x220132d1a08>,\n",
       " <keras.layers.core.Activation at 0x220132d9c48>,\n",
       " <keras.layers.convolutional.Conv2D at 0x220132146c8>,\n",
       " <keras.layers.convolutional.Conv2D at 0x220132fc708>,\n",
       " <keras.layers.normalization.BatchNormalization at 0x2201322c808>,\n",
       " <keras.layers.normalization.BatchNormalization at 0x2201331b748>,\n",
       " <keras.layers.core.Activation at 0x22013244808>,\n",
       " <keras.layers.core.Activation at 0x2201331ffc8>,\n",
       " <keras.layers.pooling.AveragePooling2D at 0x2201338cfc8>,\n",
       " <keras.layers.convolutional.Conv2D at 0x220131d3ac8>,\n",
       " <keras.layers.convolutional.Conv2D at 0x22013264688>,\n",
       " <keras.layers.convolutional.Conv2D at 0x22013341408>,\n",
       " <keras.layers.convolutional.Conv2D at 0x220133aa908>,\n",
       " <keras.layers.normalization.BatchNormalization at 0x220132144c8>,\n",
       " <keras.layers.normalization.BatchNormalization at 0x22013283f88>,\n",
       " <keras.layers.normalization.BatchNormalization at 0x22013354e08>,\n",
       " <keras.layers.normalization.BatchNormalization at 0x220133cee48>,\n",
       " <keras.layers.core.Activation at 0x220132147c8>,\n",
       " <keras.layers.core.Activation at 0x2201328efc8>,\n",
       " <keras.layers.core.Activation at 0x2201336bc48>,\n",
       " <keras.layers.core.Activation at 0x220133cef08>,\n",
       " <keras.layers.merge.Concatenate at 0x220133d5108>,\n",
       " <keras.layers.convolutional.Conv2D at 0x22013422488>,\n",
       " <keras.layers.normalization.BatchNormalization at 0x2201343dd08>,\n",
       " <keras.layers.core.Activation at 0x2201344ffc8>,\n",
       " <keras.layers.convolutional.Conv2D at 0x2201346a808>,\n",
       " <keras.layers.normalization.BatchNormalization at 0x22013491a48>,\n",
       " <keras.layers.core.Activation at 0x2201349a1c8>,\n",
       " <keras.layers.convolutional.Conv2D at 0x220133e7408>,\n",
       " <keras.layers.convolutional.Conv2D at 0x220134be448>,\n",
       " <keras.layers.normalization.BatchNormalization at 0x22013422288>,\n",
       " <keras.layers.normalization.BatchNormalization at 0x220134dd7c8>,\n",
       " <keras.layers.core.Activation at 0x22013422588>,\n",
       " <keras.layers.core.Activation at 0x220134e2c08>,\n",
       " <keras.layers.pooling.MaxPooling2D at 0x22013504488>,\n",
       " <keras.layers.merge.Concatenate at 0x22013519088>,\n",
       " <keras.layers.convolutional.Conv2D at 0x2201362cd08>,\n",
       " <keras.layers.normalization.BatchNormalization at 0x2201364ce48>,\n",
       " <keras.layers.core.Activation at 0x22013659bc8>,\n",
       " <keras.layers.convolutional.Conv2D at 0x2201367e508>,\n",
       " <keras.layers.normalization.BatchNormalization at 0x2201369c888>,\n",
       " <keras.layers.core.Activation at 0x220136a1cc8>,\n",
       " <keras.layers.convolutional.Conv2D at 0x22013556cc8>,\n",
       " <keras.layers.convolutional.Conv2D at 0x220136c2548>,\n",
       " <keras.layers.normalization.BatchNormalization at 0x22013570e48>,\n",
       " <keras.layers.normalization.BatchNormalization at 0x220136d6888>,\n",
       " <keras.layers.core.Activation at 0x2201357abc8>,\n",
       " <keras.layers.core.Activation at 0x220136ede88>,\n",
       " <keras.layers.convolutional.Conv2D at 0x2201359cb88>,\n",
       " <keras.layers.convolutional.Conv2D at 0x2201370dd88>,\n",
       " <keras.layers.normalization.BatchNormalization at 0x220135aeb88>,\n",
       " <keras.layers.normalization.BatchNormalization at 0x22013736c08>,\n",
       " <keras.layers.core.Activation at 0x220135c5908>,\n",
       " <keras.layers.core.Activation at 0x22013751f08>,\n",
       " <keras.layers.pooling.AveragePooling2D at 0x220137b6f88>,\n",
       " <keras.layers.convolutional.Conv2D at 0x220135185c8>,\n",
       " <keras.layers.convolutional.Conv2D at 0x22013602688>,\n",
       " <keras.layers.convolutional.Conv2D at 0x22013758808>,\n",
       " <keras.layers.convolutional.Conv2D at 0x220137a8708>,\n",
       " <keras.layers.normalization.BatchNormalization at 0x2201354e808>,\n",
       " <keras.layers.normalization.BatchNormalization at 0x22013603188>,\n",
       " <keras.layers.normalization.BatchNormalization at 0x2201376d388>,\n",
       " <keras.layers.normalization.BatchNormalization at 0x220137eba48>,\n",
       " <keras.layers.core.Activation at 0x2201354e308>,\n",
       " <keras.layers.core.Activation at 0x22013611f88>,\n",
       " <keras.layers.core.Activation at 0x22013785988>,\n",
       " <keras.layers.core.Activation at 0x220137eb988>,\n",
       " <keras.layers.merge.Concatenate at 0x220137f1048>,\n",
       " <keras.layers.convolutional.Conv2D at 0x22013919c08>,\n",
       " <keras.layers.normalization.BatchNormalization at 0x2201392dc88>,\n",
       " <keras.layers.core.Activation at 0x22013944a08>,\n",
       " <keras.layers.convolutional.Conv2D at 0x220139684c8>,\n",
       " <keras.layers.normalization.BatchNormalization at 0x22013983fc8>,\n",
       " <keras.layers.core.Activation at 0x220139aafc8>,\n",
       " <keras.layers.convolutional.Conv2D at 0x22013844848>,\n",
       " <keras.layers.convolutional.Conv2D at 0x220139b1808>,\n",
       " <keras.layers.normalization.BatchNormalization at 0x22013860948>,\n",
       " <keras.layers.normalization.BatchNormalization at 0x220139cdf08>,\n",
       " <keras.layers.core.Activation at 0x22013865f48>,\n",
       " <keras.layers.core.Activation at 0x220139dac88>,\n",
       " <keras.layers.convolutional.Conv2D at 0x2201388b388>,\n",
       " <keras.layers.convolutional.Conv2D at 0x220139f7688>,\n",
       " <keras.layers.normalization.BatchNormalization at 0x220138a3d48>,\n",
       " <keras.layers.normalization.BatchNormalization at 0x22013a1d988>,\n",
       " <keras.layers.core.Activation at 0x220138aff08>,\n",
       " <keras.layers.core.Activation at 0x22013a25bc8>,\n",
       " <keras.layers.pooling.AveragePooling2D at 0x22013a8f3c8>,\n",
       " <keras.layers.convolutional.Conv2D at 0x220137fb208>,\n",
       " <keras.layers.convolutional.Conv2D at 0x220138d2cc8>,\n",
       " <keras.layers.convolutional.Conv2D at 0x22013a49748>,\n",
       " <keras.layers.convolutional.Conv2D at 0x22013aa3048>,\n",
       " <keras.layers.normalization.BatchNormalization at 0x22013844c48>,\n",
       " <keras.layers.normalization.BatchNormalization at 0x220138e4fc8>,\n",
       " <keras.layers.normalization.BatchNormalization at 0x22013a5f7c8>,\n",
       " <keras.layers.normalization.BatchNormalization at 0x22013adde48>,\n",
       " <keras.layers.core.Activation at 0x220138449c8>,\n",
       " <keras.layers.core.Activation at 0x220138f9c88>,\n",
       " <keras.layers.core.Activation at 0x22013a6df88>,\n",
       " <keras.layers.core.Activation at 0x22013addfc8>,\n",
       " <keras.layers.merge.Concatenate at 0x22013addb88>,\n",
       " <keras.layers.convolutional.Conv2D at 0x22015fba048>,\n",
       " <keras.layers.normalization.BatchNormalization at 0x22015fda748>,\n",
       " <keras.layers.core.Activation at 0x22015fdffc8>,\n",
       " <keras.layers.convolutional.Conv2D at 0x22016000408>,\n",
       " <keras.layers.normalization.BatchNormalization at 0x2201601ac48>,\n",
       " <keras.layers.core.Activation at 0x22016028c08>,\n",
       " <keras.layers.convolutional.Conv2D at 0x22013b23788>,\n",
       " <keras.layers.convolutional.Conv2D at 0x22016051fc8>,\n",
       " <keras.layers.normalization.BatchNormalization at 0x22013b399c8>,\n",
       " <keras.layers.normalization.BatchNormalization at 0x2201605dd08>,\n",
       " <keras.layers.core.Activation at 0x22013b52848>,\n",
       " <keras.layers.core.Activation at 0x22016072a88>,\n",
       " <keras.layers.convolutional.Conv2D at 0x22013b73788>,\n",
       " <keras.layers.convolutional.Conv2D at 0x22016097908>,\n",
       " <keras.layers.normalization.BatchNormalization at 0x22013b9dfc8>,\n",
       " <keras.layers.normalization.BatchNormalization at 0x220160a7208>,\n",
       " <keras.layers.core.Activation at 0x22013bb7f88>,\n",
       " <keras.layers.core.Activation at 0x220160c0808>,\n",
       " <keras.layers.pooling.AveragePooling2D at 0x220170f6908>,\n",
       " <keras.layers.convolutional.Conv2D at 0x22013ae1ac8>,\n",
       " <keras.layers.convolutional.Conv2D at 0x22013bb7808>,\n",
       " <keras.layers.convolutional.Conv2D at 0x220170b1688>,\n",
       " <keras.layers.convolutional.Conv2D at 0x22017112b88>,\n",
       " <keras.layers.normalization.BatchNormalization at 0x22013b23d08>,\n",
       " <keras.layers.normalization.BatchNormalization at 0x22013bdd9c8>,\n",
       " <keras.layers.normalization.BatchNormalization at 0x220170d0fc8>,\n",
       " <keras.layers.normalization.BatchNormalization at 0x22017140548>,\n",
       " <keras.layers.core.Activation at 0x22013b23748>,\n",
       " <keras.layers.core.Activation at 0x22015f98c08>,\n",
       " <keras.layers.core.Activation at 0x220170daf88>,\n",
       " <keras.layers.core.Activation at 0x220171408c8>,\n",
       " <keras.layers.merge.Concatenate at 0x22017140d88>,\n",
       " <keras.layers.convolutional.Conv2D at 0x2201728e648>,\n",
       " <keras.layers.normalization.BatchNormalization at 0x2201728d208>,\n",
       " <keras.layers.core.Activation at 0x2201729cf48>,\n",
       " <keras.layers.convolutional.Conv2D at 0x220172b5d08>,\n",
       " <keras.layers.normalization.BatchNormalization at 0x220172d9208>,\n",
       " <keras.layers.core.Activation at 0x220172e6b48>,\n",
       " <keras.layers.convolutional.Conv2D at 0x22017192948>,\n",
       " <keras.layers.convolutional.Conv2D at 0x220173094c8>,\n",
       " <keras.layers.normalization.BatchNormalization at 0x220171a55c8>,\n",
       " <keras.layers.normalization.BatchNormalization at 0x2201732b848>,\n",
       " <keras.layers.core.Activation at 0x220171bae08>,\n",
       " <keras.layers.core.Activation at 0x2201732fc88>,\n",
       " <keras.layers.convolutional.Conv2D at 0x220171dbdc8>,\n",
       " <keras.layers.convolutional.Conv2D at 0x22017350488>,\n",
       " <keras.layers.normalization.BatchNormalization at 0x220171f3848>,\n",
       " <keras.layers.normalization.BatchNormalization at 0x22017363848>,\n",
       " <keras.layers.core.Activation at 0x22017206b48>,\n",
       " <keras.layers.core.Activation at 0x22017378e48>,\n",
       " <keras.layers.pooling.AveragePooling2D at 0x220183b5b88>,\n",
       " <keras.layers.convolutional.Conv2D at 0x22017161f48>,\n",
       " <keras.layers.convolutional.Conv2D at 0x220172269c8>,\n",
       " <keras.layers.convolutional.Conv2D at 0x2201739aa88>,\n",
       " <keras.layers.convolutional.Conv2D at 0x220183cfe88>,\n",
       " <keras.layers.normalization.BatchNormalization at 0x2201718cb08>,\n",
       " <keras.layers.normalization.BatchNormalization at 0x2201723a2c8>,\n",
       " <keras.layers.normalization.BatchNormalization at 0x220173af0c8>,\n",
       " <keras.layers.normalization.BatchNormalization at 0x220183f9d88>,\n",
       " <keras.layers.core.Activation at 0x22017192588>,\n",
       " <keras.layers.core.Activation at 0x220172518c8>,\n",
       " <keras.layers.core.Activation at 0x220173c4bc8>,\n",
       " <keras.layers.core.Activation at 0x220183f9f08>,\n",
       " <keras.layers.merge.Concatenate at 0x220183ff108>,\n",
       " <keras.layers.convolutional.Conv2D at 0x2201849a548>,\n",
       " <keras.layers.normalization.BatchNormalization at 0x220184ba908>,\n",
       " <keras.layers.core.Activation at 0x220184bef08>,\n",
       " <keras.layers.convolutional.Conv2D at 0x220184e7308>,\n",
       " <keras.layers.normalization.BatchNormalization at 0x220184fdd08>,\n",
       " <keras.layers.core.Activation at 0x22018504ec8>,\n",
       " <keras.layers.convolutional.Conv2D at 0x2201840b888>,\n",
       " <keras.layers.convolutional.Conv2D at 0x2201852ba08>,\n",
       " <keras.layers.normalization.BatchNormalization at 0x2201844a108>,\n",
       " <keras.layers.normalization.BatchNormalization at 0x2201853ee88>,\n",
       " <keras.layers.core.Activation at 0x2201844a3c8>,\n",
       " <keras.layers.core.Activation at 0x22018554c48>,\n",
       " <keras.layers.convolutional.Conv2D at 0x2201844a348>,\n",
       " <keras.layers.convolutional.Conv2D at 0x22018577bc8>,\n",
       " <keras.layers.normalization.BatchNormalization at 0x2201846be88>,\n",
       " <keras.layers.normalization.BatchNormalization at 0x22018589cc8>,\n",
       " <keras.layers.core.Activation at 0x22018478c08>,\n",
       " <keras.layers.core.Activation at 0x220185a19c8>,\n",
       " <keras.layers.pooling.MaxPooling2D at 0x220185c2848>,\n",
       " <keras.layers.merge.Concatenate at 0x220185d1888>,\n",
       " <keras.layers.convolutional.Conv2D at 0x220186ec648>,\n",
       " <keras.layers.normalization.BatchNormalization at 0x22018740cc8>,\n",
       " <keras.layers.core.Activation at 0x22018740048>,\n",
       " <keras.layers.convolutional.Conv2D at 0x220186244c8>,\n",
       " <keras.layers.convolutional.Conv2D at 0x22018739948>,\n",
       " <keras.layers.normalization.BatchNormalization at 0x2201862ee88>,\n",
       " <keras.layers.normalization.BatchNormalization at 0x22018758208>,\n",
       " <keras.layers.core.Activation at 0x22018639fc8>,\n",
       " <keras.layers.core.Activation at 0x22018763b48>,\n",
       " <keras.layers.convolutional.Conv2D at 0x220186558c8>,\n",
       " <keras.layers.convolutional.Conv2D at 0x220186a7048>,\n",
       " <keras.layers.convolutional.Conv2D at 0x220187864c8>,\n",
       " <keras.layers.convolutional.Conv2D at 0x220187cd448>,\n",
       " <keras.layers.pooling.AveragePooling2D at 0x22018818b08>,\n",
       " <keras.layers.convolutional.Conv2D at 0x220185e0588>,\n",
       " <keras.layers.normalization.BatchNormalization at 0x2201867d9c8>,\n",
       " <keras.layers.normalization.BatchNormalization at 0x220186c7748>,\n",
       " <keras.layers.normalization.BatchNormalization at 0x220187a8848>,\n",
       " <keras.layers.normalization.BatchNormalization at 0x220187e1848>,\n",
       " <keras.layers.convolutional.Conv2D at 0x2201885edc8>,\n",
       " <keras.layers.normalization.BatchNormalization at 0x2201860fb88>,\n",
       " <keras.layers.core.Activation at 0x22018686c08>,\n",
       " <keras.layers.core.Activation at 0x220186cbfc8>,\n",
       " <keras.layers.core.Activation at 0x220187acc48>,\n",
       " <keras.layers.core.Activation at 0x220187f7e48>,\n",
       " <keras.layers.normalization.BatchNormalization at 0x220188657c8>,\n",
       " <keras.layers.core.Activation at 0x2201860f108>,\n",
       " <keras.layers.merge.Concatenate at 0x220186ec408>,\n",
       " <keras.layers.merge.Concatenate at 0x22018818a88>,\n",
       " <keras.layers.core.Activation at 0x22018865fc8>,\n",
       " <keras.layers.merge.Concatenate at 0x22018865388>,\n",
       " <keras.layers.convolutional.Conv2D at 0x22018d34888>,\n",
       " <keras.layers.normalization.BatchNormalization at 0x22018d79fc8>,\n",
       " <keras.layers.core.Activation at 0x22018d79ec8>,\n",
       " <keras.layers.convolutional.Conv2D at 0x220188b3bc8>,\n",
       " <keras.layers.convolutional.Conv2D at 0x22018d7eec8>,\n",
       " <keras.layers.normalization.BatchNormalization at 0x220188cf808>,\n",
       " <keras.layers.normalization.BatchNormalization at 0x22018d91548>,\n",
       " <keras.layers.core.Activation at 0x220188dcf48>,\n",
       " <keras.layers.core.Activation at 0x22018da8d88>,\n",
       " <keras.layers.convolutional.Conv2D at 0x22018c9d388>,\n",
       " <keras.layers.convolutional.Conv2D at 0x22018ce7c08>,\n",
       " <keras.layers.convolutional.Conv2D at 0x22018dc9c08>,\n",
       " <keras.layers.convolutional.Conv2D at 0x22018fd3988>,\n",
       " <keras.layers.pooling.AveragePooling2D at 0x2201902ee48>,\n",
       " <keras.layers.convolutional.Conv2D at 0x22018864988>,\n",
       " <keras.layers.normalization.BatchNormalization at 0x22018cb9bc8>,\n",
       " <keras.layers.normalization.BatchNormalization at 0x22018cfbc88>,\n",
       " <keras.layers.normalization.BatchNormalization at 0x22018dda408>,\n",
       " <keras.layers.normalization.BatchNormalization at 0x22018fe79c8>,\n",
       " <keras.layers.convolutional.Conv2D at 0x2201903df48>,\n",
       " <keras.layers.normalization.BatchNormalization at 0x220188b3088>,\n",
       " <keras.layers.core.Activation at 0x22018cc6c88>,\n",
       " <keras.layers.core.Activation at 0x22018d11a08>,\n",
       " <keras.layers.core.Activation at 0x22018defb08>,\n",
       " <keras.layers.core.Activation at 0x22018ffd888>,\n",
       " <keras.layers.normalization.BatchNormalization at 0x22019062c48>,\n",
       " <keras.layers.core.Activation at 0x220188b3648>,\n",
       " <keras.layers.merge.Concatenate at 0x22018d4dfc8>,\n",
       " <keras.layers.merge.Concatenate at 0x2201901f708>,\n",
       " <keras.layers.core.Activation at 0x22019062908>,\n",
       " <keras.layers.merge.Concatenate at 0x2201906a648>,\n",
       " <keras.layers.pooling.GlobalAveragePooling2D at 0x220190852c8>,\n",
       " <keras.layers.core.Dense at 0x220190817c8>]"
      ]
     },
     "execution_count": 3,
     "metadata": {},
     "output_type": "execute_result"
    }
   ],
   "source": [
    "model.layers"
   ]
  },
  {
   "cell_type": "code",
   "execution_count": 4,
   "metadata": {},
   "outputs": [
    {
     "data": {
      "text/plain": [
       "<tf.Tensor 'input_1:0' shape=(None, 299, 299, 3) dtype=float32>"
      ]
     },
     "execution_count": 4,
     "metadata": {},
     "output_type": "execute_result"
    }
   ],
   "source": [
    "model.layers[0].input  #this tells us what should be the size of input image\n",
    "\n",
    "                       # also here we know that image should of 4d array ie (none, 229,229, 3) = 4d ie TENSOR DATATYPE"
   ]
  },
  {
   "cell_type": "code",
   "execution_count": 5,
   "metadata": {},
   "outputs": [],
   "source": [
    "from keras.preprocessing import image"
   ]
  },
  {
   "cell_type": "code",
   "execution_count": 6,
   "metadata": {},
   "outputs": [],
   "source": [
    "img = image.load_img('Chihuahua-longhaired-sitting-its-head-tilted.jpg', target_size=(299,299,3))"
   ]
  },
  {
   "cell_type": "code",
   "execution_count": 7,
   "metadata": {},
   "outputs": [
    {
     "data": {
      "text/plain": [
       "(299, 299)"
      ]
     },
     "execution_count": 7,
     "metadata": {},
     "output_type": "execute_result"
    }
   ],
   "source": [
    "img.size  #but here we have 2D array"
   ]
  },
  {
   "cell_type": "code",
   "execution_count": 8,
   "metadata": {},
   "outputs": [
    {
     "data": {
      "text/plain": [
       "PIL.Image.Image"
      ]
     },
     "execution_count": 8,
     "metadata": {},
     "output_type": "execute_result"
    }
   ],
   "source": [
    "type(img)"
   ]
  },
  {
   "cell_type": "markdown",
   "metadata": {},
   "source": [
    "# Convert Image to Tensor Datatype"
   ]
  },
  {
   "cell_type": "code",
   "execution_count": 9,
   "metadata": {},
   "outputs": [],
   "source": [
    "import numpy as np"
   ]
  },
  {
   "cell_type": "code",
   "execution_count": 10,
   "metadata": {},
   "outputs": [],
   "source": [
    "img_numpy = image.img_to_array(img)"
   ]
  },
  {
   "cell_type": "code",
   "execution_count": 11,
   "metadata": {},
   "outputs": [
    {
     "data": {
      "text/plain": [
       "(299, 299, 3)"
      ]
     },
     "execution_count": 11,
     "metadata": {},
     "output_type": "execute_result"
    }
   ],
   "source": [
    "img_numpy.shape                   # converted to 3d array"
   ]
  },
  {
   "cell_type": "code",
   "execution_count": 12,
   "metadata": {},
   "outputs": [
    {
     "data": {
      "text/plain": [
       "numpy.ndarray"
      ]
     },
     "execution_count": 12,
     "metadata": {},
     "output_type": "execute_result"
    }
   ],
   "source": [
    "type(img_numpy)"
   ]
  },
  {
   "cell_type": "code",
   "execution_count": 13,
   "metadata": {},
   "outputs": [],
   "source": [
    "#Conversion of 3D array to 4D array\n",
    "\n",
    "img_tensor = np.expand_dims(img_numpy, axis=0)\n",
    "\n"
   ]
  },
  {
   "cell_type": "code",
   "execution_count": 14,
   "metadata": {},
   "outputs": [
    {
     "data": {
      "text/plain": [
       "(1, 299, 299, 3)"
      ]
     },
     "execution_count": 14,
     "metadata": {},
     "output_type": "execute_result"
    }
   ],
   "source": [
    "img_tensor.shape \n",
    "\n",
    "#here 1 shows the number of columns"
   ]
  },
  {
   "cell_type": "markdown",
   "metadata": {},
   "source": [
    "# Prediction\n"
   ]
  },
  {
   "cell_type": "code",
   "execution_count": 15,
   "metadata": {},
   "outputs": [],
   "source": [
    "from keras.applications.inception_v3 import decode_predictions"
   ]
  },
  {
   "cell_type": "code",
   "execution_count": 16,
   "metadata": {},
   "outputs": [],
   "source": [
    "from keras.applications.inception_v3 import preprocess_input  #to process img more to get better accuracy"
   ]
  },
  {
   "cell_type": "code",
   "execution_count": 17,
   "metadata": {},
   "outputs": [],
   "source": [
    "final_img = preprocess_input(img_tensor)"
   ]
  },
  {
   "cell_type": "code",
   "execution_count": 18,
   "metadata": {},
   "outputs": [],
   "source": [
    "pred = model.predict(final_img)"
   ]
  },
  {
   "cell_type": "code",
   "execution_count": 19,
   "metadata": {},
   "outputs": [
    {
     "data": {
      "text/plain": [
       "[[('n02085620', 'Chihuahua', 0.849588),\n",
       "  ('n02086079', 'Pekinese', 0.030944927),\n",
       "  ('n02085782', 'Japanese_spaniel', 0.0234663),\n",
       "  ('n02112018', 'Pomeranian', 0.012018939),\n",
       "  ('n02112706', 'Brabancon_griffon', 0.00334559)]]"
      ]
     },
     "execution_count": 19,
     "metadata": {},
     "output_type": "execute_result"
    }
   ],
   "source": [
    "decode_predictions(pred)"
   ]
  },
  {
   "cell_type": "code",
   "execution_count": 20,
   "metadata": {},
   "outputs": [
    {
     "data": {
      "text/plain": [
       "[[('n02085620', 'Chihuahua', 0.849588),\n",
       "  ('n02086079', 'Pekinese', 0.030944927),\n",
       "  ('n02085782', 'Japanese_spaniel', 0.0234663)]]"
      ]
     },
     "execution_count": 20,
     "metadata": {},
     "output_type": "execute_result"
    }
   ],
   "source": [
    "decode_predictions(pred, top=3)"
   ]
  },
  {
   "cell_type": "code",
   "execution_count": null,
   "metadata": {},
   "outputs": [],
   "source": []
  },
  {
   "cell_type": "code",
   "execution_count": null,
   "metadata": {},
   "outputs": [],
   "source": []
  }
 ],
 "metadata": {
  "kernelspec": {
   "display_name": "Python 3",
   "language": "python",
   "name": "python3"
  },
  "language_info": {
   "codemirror_mode": {
    "name": "ipython",
    "version": 3
   },
   "file_extension": ".py",
   "mimetype": "text/x-python",
   "name": "python",
   "nbconvert_exporter": "python",
   "pygments_lexer": "ipython3",
   "version": "3.7.7"
  }
 },
 "nbformat": 4,
 "nbformat_minor": 4
}
